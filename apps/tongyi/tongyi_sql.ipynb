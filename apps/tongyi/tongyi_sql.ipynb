{
 "cells": [
  {
   "cell_type": "code",
   "execution_count": 9,
   "metadata": {},
   "outputs": [],
   "source": [
    "import random\n",
    "from http import HTTPStatus\n",
    "import dashscope\n",
    "dashscope.api_key = \"sk-74375edec5944b90913ec1e9509f797e\"\n"
   ]
  },
  {
   "cell_type": "markdown",
   "metadata": {},
   "source": [
    "## Tongyi LLM"
   ]
  },
  {
   "cell_type": "code",
   "execution_count": 10,
   "metadata": {},
   "outputs": [],
   "source": [
    "\n",
    "def call_with_messages(query):\n",
    "    messages = [{'role': 'system', 'content': 'You are a helpful assistant.'},\n",
    "                {'role': 'user', 'content': query}]\n",
    "    response = dashscope.Generation.call(\n",
    "        model =\"qwen-72b-chat\",\n",
    "        messages=messages,\n",
    "        # set the random seed, optional, default to 1234 if not set\n",
    "        seed=random.randint(1, 10000),\n",
    "        \n",
    "        result_format='message',  # set the result to be \"message\" format.\n",
    "    )\n",
    "    if response.status_code == HTTPStatus.OK:\n",
    "        return response\n",
    "    else:\n",
    "        print('Request id: %s, Status code: %s, error code: %s, error message: %s' % (\n",
    "            response.request_id, response.status_code,\n",
    "            response.code, response.message\n",
    "        ))\n",
    "        return None"
   ]
  },
  {
   "cell_type": "code",
   "execution_count": 11,
   "metadata": {},
   "outputs": [],
   "source": [
    "response = call_with_messages(\"Please explain field work, and give me an example?\")"
   ]
  },
  {
   "cell_type": "code",
   "execution_count": 13,
   "metadata": {},
   "outputs": [
    {
     "data": {
      "text/plain": [
       "GenerationResponse(status_code=<HTTPStatus.OK: 200>, request_id='0d21731b-3676-957b-a757-763438cda400', code='', message='', output=GenerationOutput(text=None, choices=[Choice(finish_reason='stop', message=Message({'role': 'assistant', 'content': 'Field work refers to the process of collecting data or conducting research in a natural environment or \"in the field,\" rather than in a laboratory or controlled setting. Field work can be used in a variety of disciplines, including science, social science, and engineering.\\nFor example, an archaeologist might conduct field work by excavating a historical site to uncover artifacts and learn more about the people who lived there. A biologist might conduct field work by studying the behavior of animals in their natural habitat. An engineer might conduct field work by testing the structural integrity of a bridge or other piece of infrastructure.\\nField work often involves gathering firsthand observations and data through methods such as surveys, interviews, or experiments. It can also involve collecting samples, taking measurements, or making detailed notes about the environment or phenomenon being studied.\\nOverall, field work is an important part of many scientific and academic fields because it allows researchers to gather real-world data and gain a deeper understanding of complex systems and processes.'}))], finish_reason=None), usage=GenerationUsage(input_tokens=17, output_tokens=193))"
      ]
     },
     "execution_count": 13,
     "metadata": {},
     "output_type": "execute_result"
    }
   ],
   "source": [
    "response"
   ]
  },
  {
   "cell_type": "code",
   "execution_count": 12,
   "metadata": {},
   "outputs": [
    {
     "name": "stdout",
     "output_type": "stream",
     "text": [
      "Field work refers to the process of collecting data or conducting research in a natural environment or \"in the field,\" rather than in a laboratory or controlled setting. Field work can be used in a variety of disciplines, including science, social science, and engineering.\n",
      "For example, an archaeologist might conduct field work by excavating a historical site to uncover artifacts and learn more about the people who lived there. A biologist might conduct field work by studying the behavior of animals in their natural habitat. An engineer might conduct field work by testing the structural integrity of a bridge or other piece of infrastructure.\n",
      "Field work often involves gathering firsthand observations and data through methods such as surveys, interviews, or experiments. It can also involve collecting samples, taking measurements, or making detailed notes about the environment or phenomenon being studied.\n",
      "Overall, field work is an important part of many scientific and academic fields because it allows researchers to gather real-world data and gain a deeper understanding of complex systems and processes.\n"
     ]
    }
   ],
   "source": [
    "print(response['output']['choices'][0]['message']['content'])"
   ]
  },
  {
   "cell_type": "markdown",
   "metadata": {},
   "source": [
    "## Tongyi Multimodal"
   ]
  },
  {
   "cell_type": "code",
   "execution_count": 85,
   "metadata": {},
   "outputs": [],
   "source": [
    "from http import HTTPStatus\n",
    "import dashscope\n",
    "\n",
    "\n",
    "def simple_multimodal_conversation_call(image_path):\n",
    "    \"\"\"Simple single round multimodal conversation call.\n",
    "    \"\"\"\n",
    "    messages = [\n",
    "        {\n",
    "            \"role\": \"user\",\n",
    "            \"content\": [\n",
    "                {\"image\": image_path},\n",
    "                {\"text\": \"这是什么?\"}\n",
    "            ]\n",
    "        }\n",
    "    ]\n",
    "    response = dashscope.MultiModalConversation.call(model='qwen-vl-plus',\n",
    "                                                     messages=messages)\n",
    "    # The response status_code is HTTPStatus.OK indicate success,\n",
    "    # otherwise indicate request is failed, you can get error code\n",
    "    # and message from code and message.\n",
    "    if response.status_code == HTTPStatus.OK:\n",
    "        print(response)\n",
    "    else:\n",
    "        print(response.code)  # The error code.\n",
    "        print(response.message)  # The error message.\n"
   ]
  },
  {
   "cell_type": "code",
   "execution_count": 86,
   "metadata": {},
   "outputs": [
    {
     "name": "stdout",
     "output_type": "stream",
     "text": [
      "{\"status_code\": 200, \"request_id\": \"683982c9-604e-9c5d-8ca3-1e55dd095855\", \"code\": \"\", \"message\": \"\", \"output\": {\"text\": null, \"finish_reason\": null, \"choices\": [{\"finish_reason\": null, \"message\": {\"role\": \"assistant\", \"content\": [{\"text\": \"图中是一名女子和狗在海滩上，女子笑着看着狗，狗的前爪放在女子的手上，仿佛在握手。\"}]}}]}, \"usage\": {\"input_tokens\": 1277, \"output_tokens\": 28}}\n"
     ]
    }
   ],
   "source": [
    "image_path = \"https://dashscope.oss-cn-beijing.aliyuncs.com/images/dog_and_girl.jpeg\"\n",
    "#image_path = \"/Users/collin/Desktop/llm-app-server-main/apps/dog_and_girl.png\"\n",
    "simple_multimodal_conversation_call(image_path)"
   ]
  },
  {
   "cell_type": "markdown",
   "metadata": {},
   "source": [
    "## Img Gen"
   ]
  },
  {
   "cell_type": "code",
   "execution_count": 91,
   "metadata": {},
   "outputs": [],
   "source": [
    "from http import HTTPStatus\n",
    "from urllib.parse import urlparse, unquote\n",
    "from pathlib import PurePosixPath\n",
    "import requests\n",
    "from dashscope import ImageSynthesis\n",
    "\n",
    "\n",
    "def simple_call(prompt):\n",
    "    rsp = ImageSynthesis.call(model=ImageSynthesis.Models.wanx_v1,\n",
    "                              prompt=prompt,\n",
    "                              n=4,\n",
    "                              size='1024*1024')\n",
    "    if rsp.status_code == HTTPStatus.OK:\n",
    "        print(rsp.output)\n",
    "        print(rsp.usage)\n",
    "        # save file to current directory\n",
    "        for result in rsp.output.results:\n",
    "            file_name = PurePosixPath(unquote(urlparse(result.url).path)).parts[-1]\n",
    "            with open('./wanxiang/%s' % file_name, 'wb+') as f:\n",
    "                f.write(requests.get(result.url).content)\n",
    "    else:\n",
    "        print('Failed, status_code: %s, code: %s, message: %s' %\n",
    "              (rsp.status_code, rsp.code, rsp.message))\n",
    "\n"
   ]
  },
  {
   "cell_type": "code",
   "execution_count": 92,
   "metadata": {},
   "outputs": [
    {
     "name": "stdout",
     "output_type": "stream",
     "text": [
      "{\"task_id\": \"6f7b57b4-4664-4921-84f7-17d0c3caf3d7\", \"task_status\": \"SUCCEEDED\", \"results\": [{\"url\": \"https://dashscope-result-bj.oss-cn-beijing.aliyuncs.com/1d/5c/20231206/8d820c8d/c4cf331d-b564-4262-b2ca-5f85fac5816f-1.png?Expires=1701937843&OSSAccessKeyId=LTAI5tQZd8AEcZX6KZV4G8qL&Signature=5rXfWerbYQJ84ycXsg9y8hM90b0%3D\"}, {\"url\": \"https://dashscope-result-sh.oss-cn-shanghai.aliyuncs.com/1d/70/20231206/723609ee/7b9cec57-f632-4b6d-9f0a-9345d97f2723-1.png?Expires=1701937843&OSSAccessKeyId=LTAI5tQZd8AEcZX6KZV4G8qL&Signature=mld9Ku%2Fa8bzQP7PbODPJJpTY9HE%3D\"}, {\"url\": \"https://dashscope-result-sh.oss-cn-shanghai.aliyuncs.com/1d/06/20231206/723609ee/b4f3c9eb-23a1-4a8e-9621-0eebdf6f2ebd-1.png?Expires=1701937843&OSSAccessKeyId=LTAI5tQZd8AEcZX6KZV4G8qL&Signature=myhdSBcKU4fRUgCF%2F6TnbFoK8AI%3D\"}, {\"url\": \"https://dashscope-result-sh.oss-cn-shanghai.aliyuncs.com/1d/eb/20231206/723609ee/027410f0-f676-4df7-ae7b-3b6b3544cbf4-1.png?Expires=1701937843&OSSAccessKeyId=LTAI5tQZd8AEcZX6KZV4G8qL&Signature=ZqCu5TaVuYajjymWDjOkaEwLsOM%3D\"}], \"submit_time\": \"2023-12-06 16:30:21.086\", \"scheduled_time\": \"2023-12-06 16:30:21.109\", \"end_time\": \"2023-12-06 16:30:44.858\", \"task_metrics\": {\"TOTAL\": 4, \"SUCCEEDED\": 4, \"FAILED\": 0}}\n",
      "{\"image_count\": 4}\n"
     ]
    }
   ],
   "source": [
    "\n",
    "simple_call(\"Mouse rides elephant\")\n"
   ]
  },
  {
   "cell_type": "markdown",
   "metadata": {},
   "source": [
    "### asyncronous "
   ]
  },
  {
   "cell_type": "code",
   "execution_count": 97,
   "metadata": {},
   "outputs": [],
   "source": [
    "from http import HTTPStatus\n",
    "\n",
    "from dashscope import ImageSynthesis\n",
    "\n",
    "\n",
    "# 创建异步任务\n",
    "def create_async_task(prompt):\n",
    "    rsp = ImageSynthesis.async_call(model=ImageSynthesis.Models.wanx_v1,\n",
    "                                    prompt=prompt,\n",
    "                                    n=4,\n",
    "                                    size='1024*1024')\n",
    "    print(rsp)\n",
    "    if rsp.status_code == HTTPStatus.OK:\n",
    "        print(\"create\")\n",
    "        print(rsp.output)\n",
    "        print(rsp.usage)\n",
    "    else:\n",
    "        print('Failed, status_code: %s, code: %s, message: %s' %\n",
    "              (rsp.status_code, rsp.code, rsp.message))\n",
    "    return rsp\n",
    "\n",
    "\n",
    "# 获取异步任务信息\n",
    "def fetch_task_status(task):\n",
    "    status = ImageSynthesis.fetch(task)\n",
    "    print(status)\n",
    "    if status.status_code == HTTPStatus.OK:\n",
    "        print(\"fetch\")\n",
    "        print(status.output.task_status)\n",
    "    else:\n",
    "        print('Failed, status_code: %s, code: %s, message: %s' %\n",
    "              (status.status_code, status.code, status.message))\n",
    "\n",
    "\n",
    "# 等待异步任务结束\n",
    "def wait_task(task):\n",
    "    rsp = ImageSynthesis.wait(task)\n",
    "    #print(rsp)\n",
    "    if rsp.status_code == HTTPStatus.OK:\n",
    "        print(\"wait\")\n",
    "        print(rsp.output.task_status)\n",
    "        for result in rsp.output.results:\n",
    "            file_name = PurePosixPath(unquote(urlparse(result.url).path)).parts[-1]\n",
    "            with open('./wanxiang/%s' % file_name, 'wb+') as f:\n",
    "                f.write(requests.get(result.url).content)\n",
    "    else:\n",
    "        print('Failed, status_code: %s, code: %s, message: %s' %\n",
    "              (rsp.status_code, rsp.code, rsp.message))\n",
    "\n",
    "\n",
    "# 取消异步任务，只有处于PENDING状态的任务才可以取消\n",
    "def cancel_task(task):\n",
    "    rsp = ImageSynthesis.cancel(task)\n",
    "    print(rsp)\n",
    "    if rsp.status_code == HTTPStatus.OK:\n",
    "        print(rsp.output.task_status)\n",
    "    else:\n",
    "        print('Failed, status_code: %s, code: %s, message: %s' %\n",
    "              (rsp.status_code, rsp.code, rsp.message))\n",
    "\n"
   ]
  },
  {
   "cell_type": "code",
   "execution_count": 98,
   "metadata": {},
   "outputs": [
    {
     "name": "stdout",
     "output_type": "stream",
     "text": [
      "{\"status_code\": 200, \"request_id\": \"422c28b0-4a8d-96be-b68d-1859f65dbd0b\", \"code\": \"\", \"message\": \"\", \"output\": {\"task_id\": \"de374a56-3223-48df-8937-a0e2f0beb74b\", \"task_status\": \"PENDING\", \"results\": []}, \"usage\": null}\n",
      "create\n",
      "{\"task_id\": \"de374a56-3223-48df-8937-a0e2f0beb74b\", \"task_status\": \"PENDING\", \"results\": []}\n",
      "None\n",
      "{\"status_code\": 200, \"request_id\": \"13e9ea64-6897-9a44-abb4-e5da3f7443ad\", \"code\": null, \"message\": \"\", \"output\": {\"task_id\": \"de374a56-3223-48df-8937-a0e2f0beb74b\", \"task_status\": \"PENDING\", \"results\": [], \"submit_time\": \"2023-12-06 16:38:26.155\", \"scheduled_time\": \"2023-12-06 16:38:26.177\", \"task_metrics\": {\"TOTAL\": 4, \"SUCCEEDED\": 0, \"FAILED\": 0}}, \"usage\": null}\n",
      "fetch\n",
      "PENDING\n",
      "wait\n",
      "SUCCEEDED\n"
     ]
    }
   ],
   "source": [
    "\n",
    "\n",
    "task_info = create_async_task(prompt='Eagle flying in blue sky')\n",
    "fetch_task_status(task_info)\n",
    "wait_task(task_info)\n"
   ]
  },
  {
   "cell_type": "markdown",
   "metadata": {},
   "source": [
    "## Cantonese"
   ]
  },
  {
   "cell_type": "code",
   "execution_count": 2,
   "metadata": {},
   "outputs": [],
   "source": [
    "import json\n",
    "\n",
    "with open('./505e602e-9bac-4a12-a00e-6002d0c673a7-1.json') as f:\n",
    "    data = json.load(f)"
   ]
  },
  {
   "cell_type": "code",
   "execution_count": 5,
   "metadata": {},
   "outputs": [
    {
     "data": {
      "text/plain": [
       "'我知你好中意车车我球你负责吓，但我都知道你中意发哪利系点样要发拉你咧其实咧有几个言眼嘅，quedara系有啲特家嘅经历嘅。因为一回想当年咧，我几次喺感情嗰头嘅咁咧啊，附近咧就有间叫荔进嘅车啦，就系买啲啤酒块嚟嘅咁咧。当我细细嗰嘅一个小同嘅时候咧，每同经过嗰度咧，就那种震撼嘅感觉，见到啲领车点点令喺阳光底下搬公嘅时候咧，爱上要啲红色嘅东西咧。Ja UM avali ai van tar allque exar que vota AQUíar ser el con。好嘞，叫领林堡经理啦，林堡经理个格比较粗质，就同埋冇乜历史，林布经理几都系上嚟咁可以com al punar el un un volecexigui amb bgoleo即系冇乜好研究啊咁。'"
      ]
     },
     "execution_count": 5,
     "metadata": {},
     "output_type": "execute_result"
    }
   ],
   "source": [
    "data['transcripts'][0]['text']"
   ]
  },
  {
   "cell_type": "code",
   "execution_count": null,
   "metadata": {},
   "outputs": [],
   "source": [
    "我知你好中意车车我球你负责吓，但我都知道你中意发哪利系点样要发拉你咧其实咧有几个言眼嘅，quedara系有啲特家嘅经历嘅。\n",
    "因为一回想当年咧，我几次喺感情嗰头嘅咁咧啊，附近咧就有间叫荔进嘅车啦，就系买啲啤酒块嚟嘅咁咧。\n",
    "当我细细嗰嘅一个小同嘅时候咧，每同经过嗰度咧，就那种震撼嘅感觉，见到啲领车点点令喺阳光底下搬公嘅时候咧，爱上要啲红色嘅东西咧。\n",
    "Ja UM avali ai van tar allque exar que vota AQUíar ser el con。好嘞，叫领林堡经理啦，林堡经理个格比较粗质，就同埋冇乜历史，\n",
    "林布经理几都系上嚟咁可以com al punar el un un volecexigui amb bgoleo即系冇乜好研究啊咁。"
   ]
  },
  {
   "cell_type": "code",
   "execution_count": 6,
   "metadata": {},
   "outputs": [],
   "source": [
    "with open('./94ccf09d-08c6-4128-9fa5-f67f04a0070c-1.json') as f:\n",
    "    data = json.load(f)"
   ]
  },
  {
   "cell_type": "code",
   "execution_count": 8,
   "metadata": {},
   "outputs": [
    {
     "data": {
      "text/plain": [
       "'Síjo sap jo osat有杯奶茶啊，我先食饮，唔杯奶茶喝支烟，哈哈反敷奶茶睇入铺纸料咁嘅。要有时间的话，但系但系系啊啊咁样我都系9点点19点钟咯，食八点半钟食早餐，食到九点钟睇要纸啊，九点钟食食到九点半啊，唔九点半半，但你唔饮奶茶会会痛啊啊冇，我系想点钟有唔会头痛，倒到旁边买一。JARYARR이M이정도양기에고해야니데연착부이야가7杯咗啊七杯嘅奶茶头先又话4英个，而家有一个一般啊，平日你讲咗饮4至5杯嘛，最高嘅饮7杯嘛。但我真得好好犀利噶，饮奶茶，饮奶茶，同饮奶茶都唔同噶，唔知道饮话就会说。第二呢我系弄得就系。'"
      ]
     },
     "execution_count": 8,
     "metadata": {},
     "output_type": "execute_result"
    }
   ],
   "source": [
    "data['transcripts'][0]['text']"
   ]
  },
  {
   "cell_type": "code",
   "execution_count": null,
   "metadata": {},
   "outputs": [],
   "source": [
    "Síjo sap jo osat有杯奶茶啊，我先食饮，唔杯奶茶喝支烟，哈哈反敷奶茶睇入铺纸料咁嘅。\n",
    "要有时间的话，但系但系系啊啊咁样我都系9点点19点钟咯，食八点半钟食早餐，食到九点钟睇要纸啊，\n",
    "九点钟食食到九点半啊，唔九点半半，但你唔饮奶茶会会痛啊啊冇，我系想点钟有唔会头痛，倒到旁边买一。\n",
    "JARYARR이M이정도양기에고해야니데연착부이야가7杯咗啊七杯嘅奶茶头先又话4英个，而家有一个一般啊，平日你讲咗饮4至5杯嘛，最高嘅饮7杯嘛。\n",
    "但我真得好好犀利噶，饮奶茶，饮奶茶，同饮奶茶都唔同噶，唔知道饮话就会说。第二呢我系弄得就系。"
   ]
  },
  {
   "cell_type": "markdown",
   "metadata": {},
   "source": [
    "# Test"
   ]
  },
  {
   "cell_type": "code",
   "execution_count": 1,
   "metadata": {},
   "outputs": [],
   "source": [
    "from langchain import hub"
   ]
  },
  {
   "cell_type": "code",
   "execution_count": 3,
   "metadata": {},
   "outputs": [
    {
     "name": "stdout",
     "output_type": "stream",
     "text": [
      "Collecting langchainhub\n",
      "  Downloading langchainhub-0.1.14-py3-none-any.whl.metadata (478 bytes)\n",
      "Requirement already satisfied: requests<3,>=2 in /Users/collin/miniconda3/envs/llm/lib/python3.9/site-packages (from langchainhub) (2.31.0)\n",
      "Collecting types-requests<3.0.0.0,>=2.31.0.2 (from langchainhub)\n",
      "  Downloading types_requests-2.31.0.10-py3-none-any.whl.metadata (1.8 kB)\n",
      "Requirement already satisfied: charset-normalizer<4,>=2 in /Users/collin/miniconda3/envs/llm/lib/python3.9/site-packages (from requests<3,>=2->langchainhub) (3.3.1)\n",
      "Requirement already satisfied: idna<4,>=2.5 in /Users/collin/miniconda3/envs/llm/lib/python3.9/site-packages (from requests<3,>=2->langchainhub) (3.4)\n",
      "Requirement already satisfied: urllib3<3,>=1.21.1 in /Users/collin/miniconda3/envs/llm/lib/python3.9/site-packages (from requests<3,>=2->langchainhub) (2.0.7)\n",
      "Requirement already satisfied: certifi>=2017.4.17 in /Users/collin/miniconda3/envs/llm/lib/python3.9/site-packages (from requests<3,>=2->langchainhub) (2023.7.22)\n",
      "Downloading langchainhub-0.1.14-py3-none-any.whl (3.4 kB)\n",
      "Downloading types_requests-2.31.0.10-py3-none-any.whl (14 kB)\n",
      "Installing collected packages: types-requests, langchainhub\n",
      "Successfully installed langchainhub-0.1.14 types-requests-2.31.0.10\n"
     ]
    }
   ],
   "source": [
    "!pip install langchainhub"
   ]
  },
  {
   "cell_type": "code",
   "execution_count": 7,
   "metadata": {},
   "outputs": [
    {
     "data": {
      "text/plain": [
       "PromptTemplate(input_variables=['agent_scratchpad', 'input', 'tool_names', 'tools'], template='Answer the following questions as best you can. You have access to the following tools:\\n\\n{tools}\\n\\nUse the following format:\\n\\nQuestion: the input question you must answer\\nThought: you should always think about what to do\\nAction: the action to take, should be one of [{tool_names}]\\nAction Input: the input to the action\\nObservation: the result of the action\\n... (this Thought/Action/Action Input/Observation can repeat N times)\\nThought: I now know the final answer\\nFinal Answer: the final answer to the original input question\\n\\nBegin!\\n\\nQuestion: {input}\\nThought:{agent_scratchpad}')"
      ]
     },
     "execution_count": 7,
     "metadata": {},
     "output_type": "execute_result"
    }
   ],
   "source": [
    "hub.pull('hwchase17/react')"
   ]
  },
  {
   "cell_type": "code",
   "execution_count": null,
   "metadata": {},
   "outputs": [],
   "source": []
  }
 ],
 "metadata": {
  "kernelspec": {
   "display_name": "llm",
   "language": "python",
   "name": "python3"
  },
  "language_info": {
   "codemirror_mode": {
    "name": "ipython",
    "version": 3
   },
   "file_extension": ".py",
   "mimetype": "text/x-python",
   "name": "python",
   "nbconvert_exporter": "python",
   "pygments_lexer": "ipython3",
   "version": "3.9.18"
  }
 },
 "nbformat": 4,
 "nbformat_minor": 2
}
